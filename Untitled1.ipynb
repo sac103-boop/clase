{
 "cells": [
  {
   "cell_type": "code",
   "execution_count": 5,
   "metadata": {},
   "outputs": [
    {
     "data": {
      "text/plain": [
       "f (generic function with 1 method)"
      ]
     },
     "execution_count": 5,
     "metadata": {},
     "output_type": "execute_result"
    }
   ],
   "source": [
    "f(x)=cos(x)"
   ]
  },
  {
   "cell_type": "code",
   "execution_count": 63,
   "metadata": {},
   "outputs": [
    {
     "data": {
      "text/plain": [
       "ceros (generic function with 1 method)"
      ]
     },
     "execution_count": 63,
     "metadata": {},
     "output_type": "execute_result"
    }
   ],
   "source": [
    "function ceros(a,b)\n",
    "    if f(a)==6.123233995736766e-17\n",
    "        print(\"el cero es: \", a)\n",
    "    else\n",
    "        if f(b) == 6.123233995736766e-17\n",
    "            print(\"el cero es: \",b)\n",
    "        else\n",
    "            if f(a)*f(b) < 0 && f(a) < 0 && f(b) > 0\n",
    "                m=(a+b)/2\n",
    "                ceros(a,m)\n",
    "            else\n",
    "                 if f(a)*f(b) < 0 && f(a) > 0 && f(b) < 0\n",
    "                    m=(a+b)/2\n",
    "                    ceros(m,b)\n",
    "                end\n",
    "            end\n",
    "        end\n",
    "    end\n",
    "end\n",
    "                \n",
    "\n",
    "    "
   ]
  },
  {
   "cell_type": "code",
   "execution_count": 64,
   "metadata": {},
   "outputs": [
    {
     "name": "stdout",
     "output_type": "stream",
     "text": [
      "el cero es: 1.5707963267948966"
     ]
    }
   ],
   "source": [
    "ceros(0,pi)"
   ]
  },
  {
   "cell_type": "code",
   "execution_count": 55,
   "metadata": {},
   "outputs": [
    {
     "data": {
      "text/plain": [
       "6.123233995736766e-17"
      ]
     },
     "execution_count": 55,
     "metadata": {},
     "output_type": "execute_result"
    }
   ],
   "source": [
    "f(pi/2)\n"
   ]
  }
 ],
 "metadata": {
  "kernelspec": {
   "display_name": "Julia 1.5.2",
   "language": "julia",
   "name": "julia-1.5"
  },
  "language_info": {
   "file_extension": ".jl",
   "mimetype": "application/julia",
   "name": "julia",
   "version": "1.5.2"
  }
 },
 "nbformat": 4,
 "nbformat_minor": 4
}
